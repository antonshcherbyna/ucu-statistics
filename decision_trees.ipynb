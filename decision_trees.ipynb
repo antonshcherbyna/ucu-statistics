{
 "cells": [
  {
   "cell_type": "markdown",
   "metadata": {},
   "source": [
    "### Problem 5. Decision trees"
   ]
  },
  {
   "cell_type": "markdown",
   "metadata": {},
   "source": [
    "### Task 1. Underline optimization"
   ]
  },
  {
   "cell_type": "markdown",
   "metadata": {},
   "source": [
    "> <font size=3>\n",
    "    Let's denote variable tenure as $x_i$ for simplicity. On each step we want find such two splits $S_1 = \\{\\overline{x} | x_i > a\\}$ and $S_2 = \\{\\overline{x} | x_i \\leq a\\}$ that they will minimize the following function: <br><br>\n",
    "    <center>$J(a) = \\sum\\limits_{i \\in S_1}(y_i - \\overline{y_{S_{1}}})^2 + \\sum\\limits_{i \\in S_2}(y_i - \\overline{y_{S_{2}}})^2$</center><br>\n",
    "    Then we will continue with splitting on both $S_1$ and $S_2$ sets.\n",
    "  <font>  "
   ]
  },
  {
   "cell_type": "markdown",
   "metadata": {},
   "source": [
    "### Task 2. Some gardening work"
   ]
  },
  {
   "cell_type": "code",
   "execution_count": 2,
   "metadata": {},
   "outputs": [],
   "source": [
    "library(rpart)"
   ]
  },
  {
   "cell_type": "code",
   "execution_count": 18,
   "metadata": {},
   "outputs": [],
   "source": [
    "data <- read.table('../data/telco.txt')\n",
    "data$marital = as.factor(data$marital)\n",
    "data$ed = as.factor(data$ed)\n",
    "data$retire = as.factor(data$retire)\n",
    "data$gender = as.factor(data$gender)\n",
    "data$churn = as.factor(data$churn)"
   ]
  },
  {
   "cell_type": "code",
   "execution_count": 70,
   "metadata": {},
   "outputs": [
    {
     "name": "stdout",
     "output_type": "stream",
     "text": [
      "Call:\n",
      "rpart(formula = longmon ~ tenure + age + marital + address + \n",
      "    income + ed + employ + retire + gender + wiremon + churn, \n",
      "    data = data)\n",
      "  n= 1000 \n",
      "\n",
      "          CP nsplit rel error    xerror       xstd\n",
      "1 0.46452523      0 1.0000000 1.0022857 0.12669006\n",
      "2 0.13055251      1 0.5354748 0.5485433 0.06898548\n",
      "3 0.07183533      2 0.4049223 0.4315319 0.06702927\n",
      "4 0.02298086      3 0.3330869 0.3546165 0.04432030\n",
      "5 0.02217522      4 0.3101061 0.3828441 0.04870693\n",
      "6 0.01171048      5 0.2879308 0.3575267 0.04764515\n",
      "7 0.01000000      6 0.2762204 0.3512557 0.04751726\n",
      "\n",
      "Variable importance\n",
      " tenure  employ address  retire     age  income  gender marital \n",
      "     72      10       6       3       3       2       1       1 \n",
      "\n",
      "Node number 1: 1000 observations,    complexity param=0.4645252\n",
      "  mean=11.7231, MSE=107.2944 \n",
      "  left son=2 (902 obs) right son=3 (98 obs)\n",
      "  Primary splits:\n",
      "      tenure  < 66.5  to the left,  improve=0.46452520, (0 missing)\n",
      "      employ  < 19.5  to the left,  improve=0.15134840, (0 missing)\n",
      "      address < 22.5  to the left,  improve=0.14473340, (0 missing)\n",
      "      age     < 44.5  to the left,  improve=0.11691670, (0 missing)\n",
      "      churn   splits as  RL,        improve=0.07418639, (0 missing)\n",
      "  Surrogate splits:\n",
      "      employ  < 40.5  to the left,  agree=0.912, adj=0.102, (0 split)\n",
      "      address < 32.5  to the left,  agree=0.908, adj=0.061, (0 split)\n",
      "      income  < 433.5 to the left,  agree=0.903, adj=0.010, (0 split)\n",
      "\n",
      "Node number 2: 902 observations,    complexity param=0.1305525\n",
      "  mean=9.396064, MSE=36.33099 \n",
      "  left son=4 (642 obs) right son=5 (260 obs)\n",
      "  Primary splits:\n",
      "      tenure  < 45.5  to the left,  improve=0.42744350, (0 missing)\n",
      "      age     < 41.5  to the left,  improve=0.08443679, (0 missing)\n",
      "      address < 9.5   to the left,  improve=0.08170525, (0 missing)\n",
      "      employ  < 11.5  to the left,  improve=0.08015990, (0 missing)\n",
      "      churn   splits as  RL,        improve=0.06645768, (0 missing)\n",
      "  Surrogate splits:\n",
      "      address < 20.5  to the left,  agree=0.739, adj=0.096, (0 split)\n",
      "      employ  < 21.5  to the left,  agree=0.738, adj=0.092, (0 split)\n",
      "      age     < 56.5  to the left,  agree=0.724, adj=0.042, (0 split)\n",
      "      wiremon < 60.7  to the left,  agree=0.721, adj=0.031, (0 split)\n",
      "      income  < 188   to the left,  agree=0.718, adj=0.023, (0 split)\n",
      "\n",
      "Node number 3: 98 observations,    complexity param=0.07183533\n",
      "  mean=33.14133, MSE=251.8665 \n",
      "  left son=6 (67 obs) right son=7 (31 obs)\n",
      "  Primary splits:\n",
      "      tenure  < 71.5  to the left,  improve=0.31226180, (0 missing)\n",
      "      employ  < 31.5  to the left,  improve=0.13682400, (0 missing)\n",
      "      retire  splits as  LR,        improve=0.13401310, (0 missing)\n",
      "      address < 39.5  to the left,  improve=0.10299110, (0 missing)\n",
      "      age     < 62.5  to the left,  improve=0.07611403, (0 missing)\n",
      "  Surrogate splits:\n",
      "      retire  splits as  LR,        agree=0.786, adj=0.323, (0 split)\n",
      "      address < 32.5  to the left,  agree=0.765, adj=0.258, (0 split)\n",
      "      employ  < 35.5  to the left,  agree=0.735, adj=0.161, (0 split)\n",
      "      age     < 60.5  to the left,  agree=0.724, adj=0.129, (0 split)\n",
      "      income  < 14.5  to the right, agree=0.704, adj=0.065, (0 split)\n",
      "\n",
      "Node number 4: 642 observations,    complexity param=0.02217522\n",
      "  mean=6.88824, MSE=12.6545 \n",
      "  left son=8 (293 obs) right son=9 (349 obs)\n",
      "  Primary splits:\n",
      "      tenure  < 19.5  to the left,  improve=0.29286350, (0 missing)\n",
      "      address < 11.5  to the left,  improve=0.04275990, (0 missing)\n",
      "      employ  < 9.5   to the left,  improve=0.04083218, (0 missing)\n",
      "      churn   splits as  RL,        improve=0.03963923, (0 missing)\n",
      "      marital splits as  RL,        improve=0.03547975, (0 missing)\n",
      "  Surrogate splits:\n",
      "      churn   splits as  RL,        agree=0.636, adj=0.201, (0 split)\n",
      "      employ  < 5.5   to the left,  agree=0.612, adj=0.150, (0 split)\n",
      "      address < 6.5   to the left,  agree=0.603, adj=0.130, (0 split)\n",
      "      age     < 28.5  to the left,  agree=0.601, adj=0.126, (0 split)\n",
      "      income  < 39.5  to the left,  agree=0.587, adj=0.096, (0 split)\n",
      "\n",
      "Node number 5: 260 observations,    complexity param=0.01171048\n",
      "  mean=15.58846, MSE=40.91848 \n",
      "  left son=10 (102 obs) right son=11 (158 obs)\n",
      "  Primary splits:\n",
      "      tenure  < 53.5  to the left,  improve=0.11810250, (0 missing)\n",
      "      ed      splits as  RLRLR,     improve=0.03674108, (0 missing)\n",
      "      retire  splits as  LR,        improve=0.02704948, (0 missing)\n",
      "      age     < 28.5  to the left,  improve=0.01899482, (0 missing)\n",
      "      address < 25.5  to the left,  improve=0.01592204, (0 missing)\n",
      "  Surrogate splits:\n",
      "      employ < 6.5   to the left,  agree=0.662, adj=0.137, (0 split)\n",
      "      age    < 35.5  to the left,  agree=0.646, adj=0.098, (0 split)\n",
      "      ed     splits as  RRRLL,     agree=0.619, adj=0.029, (0 split)\n",
      "\n",
      "Node number 6: 67 observations\n",
      "  mean=27.10896, MSE=85.63298 \n",
      "\n",
      "Node number 7: 31 observations,    complexity param=0.02298086\n",
      "  mean=46.17903, MSE=362.5153 \n",
      "  left son=14 (16 obs) right son=15 (15 obs)\n",
      "  Primary splits:\n",
      "      employ  < 31.5  to the left,  improve=0.21940950, (0 missing)\n",
      "      age     < 62.5  to the left,  improve=0.14050280, (0 missing)\n",
      "      address < 38    to the left,  improve=0.10620550, (0 missing)\n",
      "      ed      splits as  RLRLR,     improve=0.06899875, (0 missing)\n",
      "      gender  splits as  RL,        improve=0.06751347, (0 missing)\n",
      "  Surrogate splits:\n",
      "      age     < 62.5  to the left,  agree=0.742, adj=0.467, (0 split)\n",
      "      retire  splits as  LR,        agree=0.742, adj=0.467, (0 split)\n",
      "      gender  splits as  RL,        agree=0.710, adj=0.400, (0 split)\n",
      "      income  < 201.5 to the left,  agree=0.677, adj=0.333, (0 split)\n",
      "      marital splits as  LR,        agree=0.645, adj=0.267, (0 split)\n",
      "\n",
      "Node number 8: 293 observations\n",
      "  mean=4.787201, MSE=4.838991 \n",
      "\n",
      "Node number 9: 349 observations\n",
      "  mean=8.652149, MSE=12.39853 \n",
      "\n",
      "Node number 10: 102 observations\n",
      "  mean=12.85245, MSE=19.67727 \n",
      "\n",
      "Node number 11: 158 observations\n",
      "  mean=17.35475, MSE=46.67882 \n",
      "\n",
      "Node number 14: 16 observations\n",
      "  mean=37.54375, MSE=118.2153 \n",
      "\n",
      "Node number 15: 15 observations\n",
      "  mean=55.39, MSE=458.7207 \n",
      "\n"
     ]
    }
   ],
   "source": [
    "summary(model)"
   ]
  },
  {
   "cell_type": "code",
   "execution_count": 63,
   "metadata": {},
   "outputs": [
    {
     "name": "stdout",
     "output_type": "stream",
     "text": [
      "\n",
      "Regression tree:\n",
      "rpart(formula = longmon ~ tenure + age + marital + address + \n",
      "    income + ed + employ + retire + gender + wiremon + churn, \n",
      "    data = data)\n",
      "\n",
      "Variables actually used in tree construction:\n",
      "[1] employ tenure\n",
      "\n",
      "Root node error: 107294/1000 = 107.29\n",
      "\n",
      "n= 1000 \n",
      "\n",
      "        CP nsplit rel error  xerror     xstd\n",
      "1 0.464525      0   1.00000 1.00229 0.126690\n",
      "2 0.130553      1   0.53547 0.54854 0.068985\n",
      "3 0.071835      2   0.40492 0.43153 0.067029\n",
      "4 0.022981      3   0.33309 0.35462 0.044320\n",
      "5 0.022175      4   0.31011 0.38284 0.048707\n",
      "6 0.011710      5   0.28793 0.35753 0.047645\n",
      "7 0.010000      6   0.27622 0.35126 0.047517\n"
     ]
    }
   ],
   "source": [
    "model <- rpart(longmon ~ tenure + age + marital + address + income + ed + employ + retire + gender + wiremon + churn, \n",
    "               data = data)\n",
    "\n",
    "printcp(model)"
   ]
  },
  {
   "cell_type": "code",
   "execution_count": 71,
   "metadata": {},
   "outputs": [
    {
     "name": "stdout",
     "output_type": "stream",
     "text": [
      "\n",
      "Regression tree:\n",
      "rpart(formula = longmon ~ tenure + age + marital + address + \n",
      "    income + ed + employ + retire + gender + wiremon + churn, \n",
      "    data = data)\n",
      "\n",
      "Variables actually used in tree construction:\n",
      "[1] employ tenure\n",
      "\n",
      "Root node error: 107294/1000 = 107.29\n",
      "\n",
      "n= 1000 \n",
      "\n",
      "        CP nsplit rel error  xerror     xstd\n",
      "1 0.464525      0   1.00000 1.00229 0.126690\n",
      "2 0.130553      1   0.53547 0.54854 0.068985\n",
      "3 0.071835      2   0.40492 0.43153 0.067029\n",
      "4 0.022981      3   0.33309 0.35462 0.044320\n",
      "5 0.022175      4   0.31011 0.38284 0.048707\n"
     ]
    }
   ],
   "source": [
    "num_splits <- 4\n",
    "cp = model$cptable[num_splits + 1,]['CP']\n",
    "model_prune = prune(model, cp=cp)\n",
    "printcp(model_prune)"
   ]
  },
  {
   "cell_type": "markdown",
   "metadata": {},
   "source": [
    "> <font size=3>\n",
    "    Here I search for such optimal complexity parameter that the tree will have specified amount of splits and then perform pruning. Pruning is performed by recursive elimination of the least important splits based on the complexity parameter.\n",
    "  <font>"
   ]
  },
  {
   "cell_type": "markdown",
   "metadata": {},
   "source": [
    "### Task 3. Guarantees that one parameter is enough "
   ]
  },
  {
   "cell_type": "code",
   "execution_count": null,
   "metadata": {},
   "outputs": [],
   "source": []
  }
 ],
 "metadata": {
  "kernelspec": {
   "display_name": "R",
   "language": "R",
   "name": "ir"
  },
  "language_info": {
   "codemirror_mode": "r",
   "file_extension": ".r",
   "mimetype": "text/x-r-source",
   "name": "R",
   "pygments_lexer": "r",
   "version": "3.5.1"
  }
 },
 "nbformat": 4,
 "nbformat_minor": 2
}
